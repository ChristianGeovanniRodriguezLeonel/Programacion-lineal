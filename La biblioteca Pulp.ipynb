{
 "cells": [
  {
   "cell_type": "markdown",
   "metadata": {},
   "source": [
    "Ejemplo de cómo resolver un problema de programación lineal con pulp.\n",
    "\n",
    "Maximizar: $2x + y$\n",
    "\n",
    "Sujeto a:\n",
    "$4x + y \\leq 150$, $2x-3y\\leq -40$, $x,y\\geq 0$\n",
    "\n",
    "\n",
    "    \n",
    " "
   ]
  },
  {
   "cell_type": "code",
   "execution_count": 1,
   "metadata": {},
   "outputs": [],
   "source": [
    "from pulp import*\n",
    "x = LpVariable(\"x\", 0)\n",
    "y = LpVariable(\"y\", 0)\n",
    "prob = LpProblem(\"Ejemplo\", LpMaximize)\n",
    "prob += 4*x + y <= 150\n",
    "prob += 2*x - 3*y <= -40\n",
    "prob += 2*x + y\n"
   ]
  },
  {
   "cell_type": "code",
   "execution_count": 2,
   "metadata": {},
   "outputs": [
    {
     "data": {
      "text/plain": [
       "Ejemplo:\n",
       "MAXIMIZE\n",
       "2*x + 1*y + 0\n",
       "SUBJECT TO\n",
       "_C1: 4 x + y <= 150\n",
       "\n",
       "_C2: 2 x - 3 y <= -40\n",
       "\n",
       "VARIABLES\n",
       "x Continuous\n",
       "y Continuous"
      ]
     },
     "execution_count": 2,
     "metadata": {},
     "output_type": "execute_result"
    }
   ],
   "source": [
    "prob"
   ]
  },
  {
   "cell_type": "code",
   "execution_count": 3,
   "metadata": {},
   "outputs": [
    {
     "data": {
      "text/plain": [
       "(0.0, 150.0)"
      ]
     },
     "execution_count": 3,
     "metadata": {},
     "output_type": "execute_result"
    }
   ],
   "source": [
    "status = prob.solve()\n",
    "value(x), value(y)"
   ]
  },
  {
   "cell_type": "code",
   "execution_count": 4,
   "metadata": {},
   "outputs": [
    {
     "data": {
      "text/plain": [
       "(150.0, 'Optimal')"
      ]
     },
     "execution_count": 4,
     "metadata": {},
     "output_type": "execute_result"
    }
   ],
   "source": [
    "value(prob.objective), LpStatus[prob.status]"
   ]
  },
  {
   "cell_type": "markdown",
   "metadata": {},
   "source": [
    "## Ejercicios del 27 de Enero. (1)\n",
    "\n",
    "Maximizar: $2x + 2y$\n",
    "\n",
    "Sujeto a:\n",
    "        $2x + y \\leq 4$, \n",
    "        $-x-2y\\geq -5$, \n",
    "        $x,y\\geq 0$\n",
    "        "
   ]
  },
  {
   "cell_type": "code",
   "execution_count": 6,
   "metadata": {},
   "outputs": [],
   "source": [
    "x = LpVariable(\"x\", 0)\n",
    "y = LpVariable(\"y\", 0)\n",
    "p = LpProblem(\"1\", LpMaximize)\n",
    "p += 2*x + y <= 4\n",
    "p += -1*x - 2*y >=-5\n",
    "p += 2*x + 2*y"
   ]
  },
  {
   "cell_type": "code",
   "execution_count": 7,
   "metadata": {},
   "outputs": [
    {
     "data": {
      "text/plain": [
       "1:\n",
       "MAXIMIZE\n",
       "2*x + 2*y + 0\n",
       "SUBJECT TO\n",
       "_C1: 2 x + y <= 4\n",
       "\n",
       "_C2: - x - 2 y >= -5\n",
       "\n",
       "VARIABLES\n",
       "x Continuous\n",
       "y Continuous"
      ]
     },
     "execution_count": 7,
     "metadata": {},
     "output_type": "execute_result"
    }
   ],
   "source": [
    "p\n"
   ]
  },
  {
   "cell_type": "code",
   "execution_count": 8,
   "metadata": {},
   "outputs": [
    {
     "data": {
      "text/plain": [
       "(1.0, 2.0)"
      ]
     },
     "execution_count": 8,
     "metadata": {},
     "output_type": "execute_result"
    }
   ],
   "source": [
    "status = p.solve()\n",
    "value(x), value(y)"
   ]
  },
  {
   "cell_type": "code",
   "execution_count": 9,
   "metadata": {},
   "outputs": [
    {
     "data": {
      "text/plain": [
       "(6.0, 'Optimal')"
      ]
     },
     "execution_count": 9,
     "metadata": {},
     "output_type": "execute_result"
    }
   ],
   "source": [
    "value(p.objective), LpStatus[p.status]"
   ]
  },
  {
   "cell_type": "markdown",
   "metadata": {},
   "source": [
    "## Ejercicios del 27 de Enero. (2)\n",
    "\n",
    "Minimizar: $5x - y$\n",
    "\n",
    "Sujeto a:\n",
    "        $3x + y \\leq 7$,\n",
    "        $-x-y\\geq -3$,\n",
    "        $-x-2y\\geq -5$,\n",
    "        $x,y\\geq 0$\n",
    "        "
   ]
  },
  {
   "cell_type": "code",
   "execution_count": 15,
   "metadata": {},
   "outputs": [],
   "source": [
    "x = LpVariable(\"x\", 0)\n",
    "y = LpVariable(\"y\", 0)\n",
    "p = LpProblem(\"1\", LpMinimize)\n",
    "p += 3*x + y <= 7\n",
    "p += -x - y >= -3\n",
    "p += -x-2*y >= -5\n",
    "p += -5*x - y"
   ]
  },
  {
   "cell_type": "code",
   "execution_count": 16,
   "metadata": {},
   "outputs": [
    {
     "data": {
      "text/plain": [
       "1:\n",
       "MINIMIZE\n",
       "-5*x + -1*y + 0\n",
       "SUBJECT TO\n",
       "_C1: 3 x + y <= 7\n",
       "\n",
       "_C2: - x - y >= -3\n",
       "\n",
       "_C3: - x - 2 y >= -5\n",
       "\n",
       "VARIABLES\n",
       "x Continuous\n",
       "y Continuous"
      ]
     },
     "execution_count": 16,
     "metadata": {},
     "output_type": "execute_result"
    }
   ],
   "source": [
    "p\n"
   ]
  },
  {
   "cell_type": "code",
   "execution_count": 17,
   "metadata": {},
   "outputs": [
    {
     "data": {
      "text/plain": [
       "(2.3333333, 0.0)"
      ]
     },
     "execution_count": 17,
     "metadata": {},
     "output_type": "execute_result"
    }
   ],
   "source": [
    "status = p.solve()\n",
    "value(x), value(y)"
   ]
  },
  {
   "cell_type": "code",
   "execution_count": 18,
   "metadata": {},
   "outputs": [
    {
     "data": {
      "text/plain": [
       "(-11.6666665, 'Optimal')"
      ]
     },
     "execution_count": 18,
     "metadata": {},
     "output_type": "execute_result"
    }
   ],
   "source": [
    "value(p.objective), LpStatus[p.status]"
   ]
  },
  {
   "cell_type": "markdown",
   "metadata": {},
   "source": [
    "## Ejercicios del 27 de Enero. (3)\n",
    "\n",
    "Minimizar: $x + 4y$\n",
    "\n",
    "Sujeto a:\n",
    "        $x + y \\leq 7$,\n",
    "        $x + y\\geq 5$,\n",
    "        $x \\leq 4$,\n",
    "        $-y \\geq -4$,\n",
    "        $x,y\\geq 0$"
   ]
  },
  {
   "cell_type": "code",
   "execution_count": 21,
   "metadata": {},
   "outputs": [],
   "source": [
    "x = LpVariable(\"x\", 0)\n",
    "y = LpVariable(\"y\", 0)\n",
    "p = LpProblem(\"1\", LpMinimize)\n",
    "p += x + y <= 7\n",
    "p += x + y >= 5\n",
    "p += x <= 4\n",
    "p += -y >= -4\n",
    "p += x + 4*y"
   ]
  },
  {
   "cell_type": "code",
   "execution_count": 22,
   "metadata": {},
   "outputs": [
    {
     "data": {
      "text/plain": [
       "1:\n",
       "MINIMIZE\n",
       "1*x + 4*y + 0\n",
       "SUBJECT TO\n",
       "_C1: x + y <= 7\n",
       "\n",
       "_C2: x + y >= 5\n",
       "\n",
       "_C3: x <= 4\n",
       "\n",
       "_C4: - y >= -4\n",
       "\n",
       "VARIABLES\n",
       "x Continuous\n",
       "y Continuous"
      ]
     },
     "execution_count": 22,
     "metadata": {},
     "output_type": "execute_result"
    }
   ],
   "source": [
    "p"
   ]
  },
  {
   "cell_type": "code",
   "execution_count": 23,
   "metadata": {},
   "outputs": [
    {
     "data": {
      "text/plain": [
       "(4.0, 1.0)"
      ]
     },
     "execution_count": 23,
     "metadata": {},
     "output_type": "execute_result"
    }
   ],
   "source": [
    "status = p.solve()\n",
    "value(x), value(y)"
   ]
  },
  {
   "cell_type": "code",
   "execution_count": 24,
   "metadata": {},
   "outputs": [
    {
     "data": {
      "text/plain": [
       "(8.0, 'Optimal')"
      ]
     },
     "execution_count": 24,
     "metadata": {},
     "output_type": "execute_result"
    }
   ],
   "source": [
    "value(p.objective), LpStatus[p.status]"
   ]
  },
  {
   "cell_type": "markdown",
   "metadata": {},
   "source": [
    "## Ejercicios del 27 de Enero. (4)\n",
    "\n",
    "Maximizar: $3x + 4y$\n",
    "\n",
    "Sujeto a:\n",
    "        $-x + y \\leq 2$,\n",
    "        $y \\leq -4$,\n",
    "        $x,y\\geq 0$"
   ]
  },
  {
   "cell_type": "code",
   "execution_count": 28,
   "metadata": {},
   "outputs": [],
   "source": [
    "x = LpVariable(\"x\", 0)\n",
    "y = LpVariable(\"y\", 0)\n",
    "p = LpProblem(\"1\", LpMaximize)\n",
    "p += -x + y <= 2\n",
    "p += y <= 4\n",
    "p += 3*x + 4*y"
   ]
  },
  {
   "cell_type": "code",
   "execution_count": 29,
   "metadata": {},
   "outputs": [
    {
     "data": {
      "text/plain": [
       "1:\n",
       "MAXIMIZE\n",
       "3*x + 4*y + 0\n",
       "SUBJECT TO\n",
       "_C1: - x + y <= 2\n",
       "\n",
       "_C2: y <= 4\n",
       "\n",
       "VARIABLES\n",
       "x Continuous\n",
       "y Continuous"
      ]
     },
     "execution_count": 29,
     "metadata": {},
     "output_type": "execute_result"
    }
   ],
   "source": [
    "p"
   ]
  },
  {
   "cell_type": "code",
   "execution_count": 30,
   "metadata": {},
   "outputs": [
    {
     "data": {
      "text/plain": [
       "(2.0, 4.0)"
      ]
     },
     "execution_count": 30,
     "metadata": {},
     "output_type": "execute_result"
    }
   ],
   "source": [
    "status = p.solve()\n",
    "value(x), value(y)"
   ]
  },
  {
   "cell_type": "code",
   "execution_count": 31,
   "metadata": {},
   "outputs": [
    {
     "data": {
      "text/plain": [
       "(22.0, 'Unbounded')"
      ]
     },
     "execution_count": 31,
     "metadata": {},
     "output_type": "execute_result"
    }
   ],
   "source": [
    "value(p.objective), LpStatus[p.status]"
   ]
  },
  {
   "cell_type": "code",
   "execution_count": null,
   "metadata": {},
   "outputs": [],
   "source": []
  }
 ],
 "metadata": {
  "kernelspec": {
   "display_name": "Python 3",
   "language": "python",
   "name": "python3"
  },
  "language_info": {
   "codemirror_mode": {
    "name": "ipython",
    "version": 3
   },
   "file_extension": ".py",
   "mimetype": "text/x-python",
   "name": "python",
   "nbconvert_exporter": "python",
   "pygments_lexer": "ipython3",
   "version": "3.7.0"
  }
 },
 "nbformat": 4,
 "nbformat_minor": 2
}
